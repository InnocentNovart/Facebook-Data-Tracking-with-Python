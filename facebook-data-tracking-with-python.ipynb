{
 "cells": [
  {
   "cell_type": "markdown",
   "id": "e1481dae",
   "metadata": {
    "id": "dPSP-2j0oPkj",
    "papermill": {
     "duration": 0.003389,
     "end_time": "2023-04-11T00:44:10.392584",
     "exception": false,
     "start_time": "2023-04-11T00:44:10.389195",
     "status": "completed"
    },
    "tags": []
   },
   "source": [
    "Prior to the python script, facebook data was downloaded from personal facebook profile to local drive in json format. From the downloaded data, the file was then saved to the same directory as the project."
   ]
  },
  {
   "cell_type": "code",
   "execution_count": 1,
   "id": "2a352467",
   "metadata": {
    "execution": {
     "iopub.execute_input": "2023-04-11T00:44:10.400454Z",
     "iopub.status.busy": "2023-04-11T00:44:10.399677Z",
     "iopub.status.idle": "2023-04-11T00:44:11.584333Z",
     "shell.execute_reply": "2023-04-11T00:44:11.583505Z"
    },
    "id": "_KZ6C5R2pOl5",
    "papermill": {
     "duration": 1.19149,
     "end_time": "2023-04-11T00:44:11.586892",
     "exception": false,
     "start_time": "2023-04-11T00:44:10.395402",
     "status": "completed"
    },
    "tags": []
   },
   "outputs": [],
   "source": [
    "#  First, we import the python libraries that we will be working with.\n",
    "import pandas as pd                         # to enables us to read, explore, and work with .json file formats and dataframes.\n",
    "import matplotlib.pyplot as plt             # to enable us to make interactive visualization of the final results.\n",
    "import seaborn as sns                       # to enable us to make informative settings for visualization.\n",
    "import numpy as np                          # to enable us to perform numerical operations."
   ]
  },
  {
   "cell_type": "markdown",
   "id": "dd5ee518",
   "metadata": {
    "id": "a1aWpuVZpq8d",
    "papermill": {
     "duration": 0.002355,
     "end_time": "2023-04-11T00:44:11.592188",
     "exception": false,
     "start_time": "2023-04-11T00:44:11.589833",
     "status": "completed"
    },
    "tags": []
   },
   "source": [
    "Reading the dataset"
   ]
  },
  {
   "cell_type": "code",
   "execution_count": 2,
   "id": "afdcbedc",
   "metadata": {
    "execution": {
     "iopub.execute_input": "2023-04-11T00:44:11.599566Z",
     "iopub.status.busy": "2023-04-11T00:44:11.599010Z",
     "iopub.status.idle": "2023-04-11T00:44:11.650159Z",
     "shell.execute_reply": "2023-04-11T00:44:11.649171Z"
    },
    "id": "n_ci5-ldpmOT",
    "outputId": "c791850d-c9e3-43f2-d91a-f9c0d9909b2d",
    "papermill": {
     "duration": 0.057927,
     "end_time": "2023-04-11T00:44:11.652691",
     "exception": false,
     "start_time": "2023-04-11T00:44:11.594764",
     "status": "completed"
    },
    "tags": []
   },
   "outputs": [
    {
     "name": "stdout",
     "output_type": "stream",
     "text": [
      "            timestamp                                               data  \\\n",
      "0 2011-11-20 15:44:54  [{'post': 'Holla guyz....\n",
      "    I apologise 4 no...   \n",
      "1 2011-12-22 11:42:52  [{'post': 'Nawapa pole wahanga wa mafuriko kok...   \n",
      "2 2011-12-27 15:00:31  [{'post': 'Hey geez 'n' guyz!Holla out there,,...   \n",
      "3 2011-12-28 06:57:48  [{'post': 'Guyz 'n' geez!!hop u al gud out dea...   \n",
      "4 2012-01-02 23:41:05  [{'post': 'Hi people!its 2012...lets strategis...   \n",
      "\n",
      "  attachments title tags  \n",
      "0         NaN   NaN  NaN  \n",
      "1         NaN   NaN  NaN  \n",
      "2         NaN   NaN  NaN  \n",
      "3         NaN   NaN  NaN  \n",
      "4         NaN   NaN  NaN  \n"
     ]
    }
   ],
   "source": [
    "#  Now, we read our downloaded data and assign it to a dataframe using pandas.\n",
    "df = pd.read_json('/kaggle/input/facebook-posts-data/your_posts_1.json')          # to enable us read the json file.\n",
    "print(df.head())                                # to view the first 5 entries of our dataframe to ensure that the downloaded data is readable."
   ]
  },
  {
   "cell_type": "markdown",
   "id": "418bb785",
   "metadata": {
    "id": "yUx-CCz8qBnt",
    "papermill": {
     "duration": 0.002482,
     "end_time": "2023-04-11T00:44:11.658109",
     "exception": false,
     "start_time": "2023-04-11T00:44:11.655627",
     "status": "completed"
    },
    "tags": []
   },
   "source": [
    "Data cleaning and EDA"
   ]
  },
  {
   "cell_type": "code",
   "execution_count": 3,
   "id": "8c60d0a6",
   "metadata": {
    "execution": {
     "iopub.execute_input": "2023-04-11T00:44:11.665092Z",
     "iopub.status.busy": "2023-04-11T00:44:11.664700Z",
     "iopub.status.idle": "2023-04-11T00:44:12.127532Z",
     "shell.execute_reply": "2023-04-11T00:44:12.125648Z"
    },
    "id": "Oq1Nmfacp7Xv",
    "outputId": "598c6bf2-a807-4f64-a6d3-0c21800cf30b",
    "papermill": {
     "duration": 0.469503,
     "end_time": "2023-04-11T00:44:12.130324",
     "exception": false,
     "start_time": "2023-04-11T00:44:11.660821",
     "status": "completed"
    },
    "tags": []
   },
   "outputs": [
    {
     "name": "stdout",
     "output_type": "stream",
     "text": [
      "Index(['date', 'data', 'attachments', 'title', 'tags'], dtype='object')\n",
      "                   date                                               data\n",
      "0   2011-11-20 15:44:54  [{'post': 'Holla guyz....\n",
      "    I apologise 4 no...\n",
      "1   2011-12-22 11:42:52  [{'post': 'Nawapa pole wahanga wa mafuriko kok...\n",
      "2   2011-12-27 15:00:31  [{'post': 'Hey geez 'n' guyz!Holla out there,,...\n",
      "3   2011-12-28 06:57:48  [{'post': 'Guyz 'n' geez!!hop u al gud out dea...\n",
      "4   2012-01-02 23:41:05  [{'post': 'Hi people!its 2012...lets strategis...\n",
      "..                  ...                                                ...\n",
      "453 2022-11-20 07:55:22  [{'post': 'Privileged to join the internalizat...\n",
      "454 2022-12-05 20:48:55  [{'post': 'Seasons greeting from @welcomecente...\n",
      "455 2022-12-13 13:06:37  [{'post': 'Welcoming y'all to ths cgristmas sa...\n",
      "456 2022-12-14 00:21:20  [{'post': '\"...we went through fire and throug...\n",
      "457 2023-01-19 15:57:37                 [{'update_timestamp': 1674143857}]\n",
      "\n",
      "[458 rows x 2 columns]\n"
     ]
    }
   ],
   "source": [
    "#  After viewing our dataframe, we need to perform some data cleaning to ensure that we are only using the data we need.\n",
    "df.shape\n",
    "df.rename(columns={'timestamp':'date'}, inplace=True)       # to change the column name \"timestamp\" to \"date\".\n",
    "print(df.columns)                                           # to view all the columns within our dataframe.\n",
    "df1 = df.drop(['attachments', 'title', 'tags'], axis=1)      # to drop columns from our dataframe that won't be needed for analysis.\n",
    "print(df1)                                                   # to view the cleaned dataframe we will be working with.\n",
    "df1.to_excel('Downloaded Data_clean.xlsx')                   # to save the cleaned dataframe to .xlsx with desired name."
   ]
  },
  {
   "cell_type": "code",
   "execution_count": 4,
   "id": "18bf11c4",
   "metadata": {
    "execution": {
     "iopub.execute_input": "2023-04-11T00:44:12.138027Z",
     "iopub.status.busy": "2023-04-11T00:44:12.137477Z",
     "iopub.status.idle": "2023-04-11T00:44:12.195424Z",
     "shell.execute_reply": "2023-04-11T00:44:12.193445Z"
    },
    "id": "OwkuXqioqygH",
    "outputId": "af430fe3-d5fe-402b-dc96-b3a2b7c87763",
    "papermill": {
     "duration": 0.064662,
     "end_time": "2023-04-11T00:44:12.198097",
     "exception": false,
     "start_time": "2023-04-11T00:44:12.133435",
     "status": "completed"
    },
    "tags": []
   },
   "outputs": [
    {
     "name": "stdout",
     "output_type": "stream",
     "text": [
      "date\n",
      "2011-11-01    1\n",
      "2011-12-01    3\n",
      "2012-01-01    3\n",
      "2012-02-01    1\n",
      "2012-03-01    0\n",
      "             ..\n",
      "2022-09-01    1\n",
      "2022-10-01    1\n",
      "2022-11-01    1\n",
      "2022-12-01    3\n",
      "2023-01-01    1\n",
      "Freq: MS, Length: 135, dtype: int64\n"
     ]
    }
   ],
   "source": [
    "#  Now that we have cleaned our data. We need to count our posts monthly from 2011 to 2023.\n",
    "pd.to_datetime(df1['date'])                            # first we assign the \"date\" column as a datetime.\n",
    "df2 = df.set_index(df['date']).resample('MS').size()  # setting the date as the index, grouping it by months, and counting the posts in each month.\n",
    "df2.to_excel('Monthly Posts Count.xlsx')              # saving the dataframe to .xlsx with desired name.\n",
    "print(df2)                                            # to view the saved dataframe."
   ]
  },
  {
   "cell_type": "code",
   "execution_count": 5,
   "id": "272b9993",
   "metadata": {
    "execution": {
     "iopub.execute_input": "2023-04-11T00:44:12.205945Z",
     "iopub.status.busy": "2023-04-11T00:44:12.205581Z",
     "iopub.status.idle": "2023-04-11T00:44:12.923549Z",
     "shell.execute_reply": "2023-04-11T00:44:12.922538Z"
    },
    "id": "PP1MBCpcq5a0",
    "outputId": "f4607f6a-c676-48cb-a7dd-62e5286d7e9e",
    "papermill": {
     "duration": 0.724225,
     "end_time": "2023-04-11T00:44:12.925610",
     "exception": false,
     "start_time": "2023-04-11T00:44:12.201385",
     "status": "completed"
    },
    "tags": []
   },
   "outputs": [
    {
     "data": {
      "image/png": "[encoded data removed]",
      "text/plain": [
       "<Figure size 1400x700 with 1 Axes>"
      ]
     },
     "metadata": {},
     "output_type": "display_data"
    }
   ],
   "source": [
    "#  Now to the good part, we can do some visualization.\n",
    "sns.set(rc={'figure.figsize':(14,7)})                                           # setting the size/dimensions of the entire graph.\n",
    "sns.set(font_scale=1)                                                           # setting the scale of the graph and fontsize of text.\n",
    "y = df2                                                                         # assigning df1 to variable y.\n",
    "x = df2.index                                                                   # assigning df1.index to variable x.\n",
    "plt.bar(x, y, edgecolor=\"blue\", color=\"blue\")                                   # plotting bar graph of x against y with colors.\n",
    "plt.xlabel('year')                                                              # adding label to the x-axis.\n",
    "plt.ylabel('number of posts')                                                   # adding label to the y-axis.\n",
    "tick_position = np.arange(10, len(x), step=24)                                  # assigning the tick positions to the years.\n",
    "plt.title('FACEBOOK MONTHLY POST TRACKING FROM 2011 TO 2023.', color=\"blue\")    # Adding the title of the graph.\n",
    "plt.savefig('Monthly Posts.png')                                                # saving the plotted bar graph as an image.\n",
    "plt.show()                                                                      # displaying the plotted bar graph."
   ]
  },
  {
   "cell_type": "markdown",
   "id": "04c74bfa",
   "metadata": {
    "id": "PENyGdHLrwKL",
    "papermill": {
     "duration": 0.002942,
     "end_time": "2023-04-11T00:44:12.931917",
     "exception": false,
     "start_time": "2023-04-11T00:44:12.928975",
     "status": "completed"
    },
    "tags": []
   },
   "source": [
    "From the visualization, each bar represents a single month within a year.\n",
    "From the plot, insights provide that this facebook user had generally been an active user. First activity was in 2011, followed by a steady increase in activity in 2012, 2013, and 2014 respectively. In 2015, there was a decline in facebook activity to a net zero; before a huge spike in 2016 which was the user's highest recorded facebook activity in the entire 10 years of tracked data. Nevertheless, the user has been on and off the platform eversince with zero activity throughout the year 2021 before resurfacing again in the 3rd and 4th quarter of 2022."
   ]
  },
  {
   "cell_type": "code",
   "execution_count": null,
   "id": "a45eabea",
   "metadata": {
    "id": "JU_46Unrtn2B",
    "papermill": {
     "duration": 0.002883,
     "end_time": "2023-04-11T00:44:12.937974",
     "exception": false,
     "start_time": "2023-04-11T00:44:12.935091",
     "status": "completed"
    },
    "tags": []
   },
   "outputs": [],
   "source": []
  }
 ],
 "metadata": {
  "kernelspec": {
   "display_name": "Python 3",
   "language": "python",
   "name": "python3"
  },
  "language_info": {
   "codemirror_mode": {
    "name": "ipython",
    "version": 3
   },
   "file_extension": ".py",
   "mimetype": "text/x-python",
   "name": "python",
   "nbconvert_exporter": "python",
   "pygments_lexer": "ipython3",
   "version": "3.7.12"
  },
  "papermill": {
   "default_parameters": {},
   "duration": 12.472188,
   "end_time": "2023-04-11T00:44:13.663322",
   "environment_variables": {},
   "exception": null,
   "input_path": "__notebook__.ipynb",
   "output_path": "__notebook__.ipynb",
   "parameters": {},
   "start_time": "2023-04-11T00:44:01.191134",
   "version": "2.4.0"
  }
 },
 "nbformat": 4,
 "nbformat_minor": 5
}
